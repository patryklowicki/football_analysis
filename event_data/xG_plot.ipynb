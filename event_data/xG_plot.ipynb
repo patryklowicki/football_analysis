{
 "cells": [
  {
   "cell_type": "markdown",
   "metadata": {},
   "source": [
    "Concept and viz inspired by Twitter user @11tegen11 / http://11tegen11.net\n",
    "\n",
    "Data provided by Statsbomb"
   ]
  },
  {
   "cell_type": "code",
   "execution_count": 102,
   "metadata": {},
   "outputs": [],
   "source": [
    "# import relevant libraries\n",
    "%matplotlib inline\n",
    "import json\n",
    "from pandas.io.json import json_normalize\n",
    "import numpy as np\n",
    "import seaborn as sns\n",
    "import pandas as pd\n",
    "import matplotlib.pyplot as plt\n",
    "from datetime import datetime, timedelta\n",
    "from lib.find_game import find_games_by_team"
   ]
  },
  {
   "cell_type": "markdown",
   "metadata": {},
   "source": [
    "## GET DATA"
   ]
  },
  {
   "cell_type": "markdown",
   "metadata": {},
   "source": [
    "First let's find games played by Poland in the FIFA World Cup 2018 in statsbomb open-data repository."
   ]
  },
  {
   "cell_type": "code",
   "execution_count": 4,
   "metadata": {},
   "outputs": [],
   "source": [
    "games = find_games_by_team('Poland')\n",
    "game_ids = games['match_id'].unique()"
   ]
  },
  {
   "cell_type": "code",
   "execution_count": 5,
   "metadata": {},
   "outputs": [
    {
     "data": {
      "text/html": [
       "<div>\n",
       "<style scoped>\n",
       "    .dataframe tbody tr th:only-of-type {\n",
       "        vertical-align: middle;\n",
       "    }\n",
       "\n",
       "    .dataframe tbody tr th {\n",
       "        vertical-align: top;\n",
       "    }\n",
       "\n",
       "    .dataframe thead th {\n",
       "        text-align: right;\n",
       "    }\n",
       "</style>\n",
       "<table border=\"1\" class=\"dataframe\">\n",
       "  <thead>\n",
       "    <tr style=\"text-align: right;\">\n",
       "      <th></th>\n",
       "      <th>match_id</th>\n",
       "      <th>home_team_home_team_name</th>\n",
       "      <th>away_team_away_team_name</th>\n",
       "      <th>home_score</th>\n",
       "      <th>away_score</th>\n",
       "    </tr>\n",
       "  </thead>\n",
       "  <tbody>\n",
       "    <tr>\n",
       "      <td>33</td>\n",
       "      <td>7555</td>\n",
       "      <td>Poland</td>\n",
       "      <td>Colombia</td>\n",
       "      <td>0</td>\n",
       "      <td>3</td>\n",
       "    </tr>\n",
       "    <tr>\n",
       "      <td>39</td>\n",
       "      <td>7539</td>\n",
       "      <td>Poland</td>\n",
       "      <td>Senegal</td>\n",
       "      <td>1</td>\n",
       "      <td>2</td>\n",
       "    </tr>\n",
       "    <tr>\n",
       "      <td>60</td>\n",
       "      <td>7572</td>\n",
       "      <td>Japan</td>\n",
       "      <td>Poland</td>\n",
       "      <td>0</td>\n",
       "      <td>1</td>\n",
       "    </tr>\n",
       "  </tbody>\n",
       "</table>\n",
       "</div>"
      ],
      "text/plain": [
       "    match_id home_team_home_team_name away_team_away_team_name  home_score  \\\n",
       "33      7555                   Poland                 Colombia           0   \n",
       "39      7539                   Poland                  Senegal           1   \n",
       "60      7572                    Japan                   Poland           0   \n",
       "\n",
       "    away_score  \n",
       "33           3  \n",
       "39           2  \n",
       "60           1  "
      ]
     },
     "execution_count": 5,
     "metadata": {},
     "output_type": "execute_result"
    }
   ],
   "source": [
    "games[['match_id', 'home_team_home_team_name', 'away_team_away_team_name', 'home_score', 'away_score']]"
   ]
  },
  {
   "cell_type": "markdown",
   "metadata": {},
   "source": [
    "Having their IDs I can load them to a DataFrame"
   ]
  },
  {
   "cell_type": "code",
   "execution_count": 6,
   "metadata": {},
   "outputs": [],
   "source": [
    "data_id = game_ids\n",
    "# consequently read the json and concatenate into a pre-defined dataframe\n",
    "all_pol = pd.DataFrame()\n",
    "for i in data_id:\n",
    "    with open(r'football_analysis/open-data/data/events/'+str(i)+'.json', encoding='utf-8') as data_file:\n",
    "        data = json.load(data_file)\n",
    "    df = json_normalize(data, sep = '_')\n",
    "    df['game_id'] = i\n",
    "    if all_pol.empty:\n",
    "        all_pol = df\n",
    "    else:\n",
    "        all_pol = pd.concat([all_pol, df], join = 'outer', sort = False)"
   ]
  },
  {
   "cell_type": "markdown",
   "metadata": {},
   "source": [
    "Now, let's split it game by game"
   ]
  },
  {
   "cell_type": "code",
   "execution_count": 7,
   "metadata": {},
   "outputs": [],
   "source": [
    "df = all_pol\n",
    "pol_sen = df.loc[df['game_id'] == 7539]\n",
    "pol_col = df.loc[df['game_id'] == 7555]\n",
    "jap_pol = df.loc[df['game_id'] == 7572]"
   ]
  },
  {
   "cell_type": "code",
   "execution_count": 65,
   "metadata": {},
   "outputs": [],
   "source": [
    "#select game to work on\n",
    "df = pol_col.copy()"
   ]
  },
  {
   "cell_type": "code",
   "execution_count": 66,
   "metadata": {},
   "outputs": [],
   "source": [
    "df['goal'] = np.where((df['shot_outcome_name'] == 'Goal') | (df['type_name'] == 'Own Goal For'),1,0)"
   ]
  },
  {
   "cell_type": "code",
   "execution_count": 67,
   "metadata": {},
   "outputs": [],
   "source": [
    "teams = df['team_name'].unique()"
   ]
  },
  {
   "cell_type": "code",
   "execution_count": 70,
   "metadata": {},
   "outputs": [
    {
     "data": {
      "text/html": [
       "<div>\n",
       "<style scoped>\n",
       "    .dataframe tbody tr th:only-of-type {\n",
       "        vertical-align: middle;\n",
       "    }\n",
       "\n",
       "    .dataframe tbody tr th {\n",
       "        vertical-align: top;\n",
       "    }\n",
       "\n",
       "    .dataframe thead th {\n",
       "        text-align: right;\n",
       "    }\n",
       "</style>\n",
       "<table border=\"1\" class=\"dataframe\">\n",
       "  <thead>\n",
       "    <tr style=\"text-align: right;\">\n",
       "      <th></th>\n",
       "      <th>shot_statsbomb_xg</th>\n",
       "      <th>goal</th>\n",
       "    </tr>\n",
       "    <tr>\n",
       "      <th>team_name</th>\n",
       "      <th></th>\n",
       "      <th></th>\n",
       "    </tr>\n",
       "  </thead>\n",
       "  <tbody>\n",
       "    <tr>\n",
       "      <td>Colombia</td>\n",
       "      <td>1.352031</td>\n",
       "      <td>3</td>\n",
       "    </tr>\n",
       "    <tr>\n",
       "      <td>Poland</td>\n",
       "      <td>0.754484</td>\n",
       "      <td>0</td>\n",
       "    </tr>\n",
       "  </tbody>\n",
       "</table>\n",
       "</div>"
      ],
      "text/plain": [
       "           shot_statsbomb_xg  goal\n",
       "team_name                         \n",
       "Colombia            1.352031     3\n",
       "Poland              0.754484     0"
      ]
     },
     "execution_count": 70,
     "metadata": {},
     "output_type": "execute_result"
    }
   ],
   "source": [
    "game_result = df.groupby('team_name').sum()[['shot_statsbomb_xg', 'goal']]\n",
    "game_result"
   ]
  },
  {
   "cell_type": "markdown",
   "metadata": {},
   "source": [
    "## accumulated xG before scoring a goal"
   ]
  },
  {
   "cell_type": "code",
   "execution_count": 71,
   "metadata": {},
   "outputs": [],
   "source": [
    "chances_time = df.loc[df['shot_outcome_name'].isna() == False][['minute', 'team_name', 'player_name', 'shot_outcome_name', 'shot_statsbomb_xg']]\n",
    "\n",
    "chances_time['chance_home'] = np.where(chances_time['team_name'] == teams[0],chances_time['shot_statsbomb_xg'],0)\n",
    "chances_time['chance_away'] = np.where(chances_time['team_name'] == teams[1],chances_time['shot_statsbomb_xg'],0)\n",
    "\n",
    "chances_time['acc_xg_home'] = np.add.accumulate(chances_time['chance_home'])\n",
    "chances_time['acc_xg_away'] = np.add.accumulate(chances_time['chance_away'])\n",
    "\n",
    "goals_time = chances_time.loc[chances_time['shot_outcome_name'] == 'Goal']"
   ]
  },
  {
   "cell_type": "code",
   "execution_count": 100,
   "metadata": {},
   "outputs": [
    {
     "data": {
      "text/html": [
       "<div>\n",
       "<style scoped>\n",
       "    .dataframe tbody tr th:only-of-type {\n",
       "        vertical-align: middle;\n",
       "    }\n",
       "\n",
       "    .dataframe tbody tr th {\n",
       "        vertical-align: top;\n",
       "    }\n",
       "\n",
       "    .dataframe thead th {\n",
       "        text-align: right;\n",
       "    }\n",
       "</style>\n",
       "<table border=\"1\" class=\"dataframe\">\n",
       "  <thead>\n",
       "    <tr style=\"text-align: right;\">\n",
       "      <th></th>\n",
       "      <th>minute</th>\n",
       "      <th>team_name</th>\n",
       "      <th>player_name</th>\n",
       "      <th>shot_outcome_name</th>\n",
       "      <th>shot_statsbomb_xg</th>\n",
       "      <th>chance_pol</th>\n",
       "      <th>chance_col</th>\n",
       "      <th>chance_home</th>\n",
       "      <th>chance_away</th>\n",
       "      <th>acc_xg_home</th>\n",
       "      <th>acc_xg_away</th>\n",
       "    </tr>\n",
       "  </thead>\n",
       "  <tbody>\n",
       "    <tr>\n",
       "      <td>54</td>\n",
       "      <td>1</td>\n",
       "      <td>Poland</td>\n",
       "      <td>Dawid Kownacki</td>\n",
       "      <td>Blocked</td>\n",
       "      <td>0.018315</td>\n",
       "      <td>0.018315</td>\n",
       "      <td>0.000000</td>\n",
       "      <td>0.018315</td>\n",
       "      <td>0.000000</td>\n",
       "      <td>0.018315</td>\n",
       "      <td>0.000000</td>\n",
       "    </tr>\n",
       "    <tr>\n",
       "      <td>165</td>\n",
       "      <td>4</td>\n",
       "      <td>Poland</td>\n",
       "      <td>Robert Lewandowski</td>\n",
       "      <td>Wayward</td>\n",
       "      <td>0.169242</td>\n",
       "      <td>0.169242</td>\n",
       "      <td>0.000000</td>\n",
       "      <td>0.169242</td>\n",
       "      <td>0.000000</td>\n",
       "      <td>0.187557</td>\n",
       "      <td>0.000000</td>\n",
       "    </tr>\n",
       "    <tr>\n",
       "      <td>572</td>\n",
       "      <td>14</td>\n",
       "      <td>Colombia</td>\n",
       "      <td>Santiago Arias Naranjo</td>\n",
       "      <td>Blocked</td>\n",
       "      <td>0.015998</td>\n",
       "      <td>0.000000</td>\n",
       "      <td>0.015998</td>\n",
       "      <td>0.000000</td>\n",
       "      <td>0.015998</td>\n",
       "      <td>0.187557</td>\n",
       "      <td>0.015998</td>\n",
       "    </tr>\n",
       "    <tr>\n",
       "      <td>706</td>\n",
       "      <td>17</td>\n",
       "      <td>Poland</td>\n",
       "      <td>Piotr Zieliński</td>\n",
       "      <td>Blocked</td>\n",
       "      <td>0.022515</td>\n",
       "      <td>0.022515</td>\n",
       "      <td>0.000000</td>\n",
       "      <td>0.022515</td>\n",
       "      <td>0.000000</td>\n",
       "      <td>0.210072</td>\n",
       "      <td>0.015998</td>\n",
       "    </tr>\n",
       "    <tr>\n",
       "      <td>1207</td>\n",
       "      <td>34</td>\n",
       "      <td>Colombia</td>\n",
       "      <td>Juan Guillermo Cuadrado Bello</td>\n",
       "      <td>Off T</td>\n",
       "      <td>0.012081</td>\n",
       "      <td>0.000000</td>\n",
       "      <td>0.012081</td>\n",
       "      <td>0.000000</td>\n",
       "      <td>0.012081</td>\n",
       "      <td>0.210072</td>\n",
       "      <td>0.028079</td>\n",
       "    </tr>\n",
       "  </tbody>\n",
       "</table>\n",
       "</div>"
      ],
      "text/plain": [
       "      minute team_name                    player_name shot_outcome_name  \\\n",
       "54         1    Poland                 Dawid Kownacki           Blocked   \n",
       "165        4    Poland             Robert Lewandowski           Wayward   \n",
       "572       14  Colombia         Santiago Arias Naranjo           Blocked   \n",
       "706       17    Poland                Piotr Zieliński           Blocked   \n",
       "1207      34  Colombia  Juan Guillermo Cuadrado Bello             Off T   \n",
       "\n",
       "      shot_statsbomb_xg  chance_pol  chance_col  chance_home  chance_away  \\\n",
       "54             0.018315    0.018315    0.000000     0.018315     0.000000   \n",
       "165            0.169242    0.169242    0.000000     0.169242     0.000000   \n",
       "572            0.015998    0.000000    0.015998     0.000000     0.015998   \n",
       "706            0.022515    0.022515    0.000000     0.022515     0.000000   \n",
       "1207           0.012081    0.000000    0.012081     0.000000     0.012081   \n",
       "\n",
       "      acc_xg_home  acc_xg_away  \n",
       "54       0.018315     0.000000  \n",
       "165      0.187557     0.000000  \n",
       "572      0.187557     0.015998  \n",
       "706      0.210072     0.015998  \n",
       "1207     0.210072     0.028079  "
      ]
     },
     "execution_count": 100,
     "metadata": {},
     "output_type": "execute_result"
    }
   ],
   "source": [
    "chances_time.head()"
   ]
  },
  {
   "cell_type": "code",
   "execution_count": 99,
   "metadata": {},
   "outputs": [
    {
     "data": {
      "text/html": [
       "<div>\n",
       "<style scoped>\n",
       "    .dataframe tbody tr th:only-of-type {\n",
       "        vertical-align: middle;\n",
       "    }\n",
       "\n",
       "    .dataframe tbody tr th {\n",
       "        vertical-align: top;\n",
       "    }\n",
       "\n",
       "    .dataframe thead th {\n",
       "        text-align: right;\n",
       "    }\n",
       "</style>\n",
       "<table border=\"1\" class=\"dataframe\">\n",
       "  <thead>\n",
       "    <tr style=\"text-align: right;\">\n",
       "      <th></th>\n",
       "      <th>minute</th>\n",
       "      <th>team_name</th>\n",
       "      <th>player_name</th>\n",
       "      <th>shot_outcome_name</th>\n",
       "      <th>shot_statsbomb_xg</th>\n",
       "      <th>chance_pol</th>\n",
       "      <th>chance_col</th>\n",
       "      <th>chance_home</th>\n",
       "      <th>chance_away</th>\n",
       "      <th>acc_xg_home</th>\n",
       "      <th>acc_xg_away</th>\n",
       "    </tr>\n",
       "  </thead>\n",
       "  <tbody>\n",
       "    <tr>\n",
       "      <td>1467</td>\n",
       "      <td>39</td>\n",
       "      <td>Colombia</td>\n",
       "      <td>Yerry Fernando Mina González</td>\n",
       "      <td>Goal</td>\n",
       "      <td>0.385861</td>\n",
       "      <td>0.0</td>\n",
       "      <td>0.385861</td>\n",
       "      <td>0.0</td>\n",
       "      <td>0.385861</td>\n",
       "      <td>0.210072</td>\n",
       "      <td>0.413940</td>\n",
       "    </tr>\n",
       "    <tr>\n",
       "      <td>2938</td>\n",
       "      <td>69</td>\n",
       "      <td>Colombia</td>\n",
       "      <td>Radamel Falcao García Zárate</td>\n",
       "      <td>Goal</td>\n",
       "      <td>0.380053</td>\n",
       "      <td>0.0</td>\n",
       "      <td>0.380053</td>\n",
       "      <td>0.0</td>\n",
       "      <td>0.380053</td>\n",
       "      <td>0.473017</td>\n",
       "      <td>0.997395</td>\n",
       "    </tr>\n",
       "    <tr>\n",
       "      <td>3092</td>\n",
       "      <td>74</td>\n",
       "      <td>Colombia</td>\n",
       "      <td>Juan Guillermo Cuadrado Bello</td>\n",
       "      <td>Goal</td>\n",
       "      <td>0.242940</td>\n",
       "      <td>0.0</td>\n",
       "      <td>0.242940</td>\n",
       "      <td>0.0</td>\n",
       "      <td>0.242940</td>\n",
       "      <td>0.487467</td>\n",
       "      <td>1.240335</td>\n",
       "    </tr>\n",
       "  </tbody>\n",
       "</table>\n",
       "</div>"
      ],
      "text/plain": [
       "      minute team_name                    player_name shot_outcome_name  \\\n",
       "1467      39  Colombia   Yerry Fernando Mina González              Goal   \n",
       "2938      69  Colombia   Radamel Falcao García Zárate              Goal   \n",
       "3092      74  Colombia  Juan Guillermo Cuadrado Bello              Goal   \n",
       "\n",
       "      shot_statsbomb_xg  chance_pol  chance_col  chance_home  chance_away  \\\n",
       "1467           0.385861         0.0    0.385861          0.0     0.385861   \n",
       "2938           0.380053         0.0    0.380053          0.0     0.380053   \n",
       "3092           0.242940         0.0    0.242940          0.0     0.242940   \n",
       "\n",
       "      acc_xg_home  acc_xg_away  \n",
       "1467     0.210072     0.413940  \n",
       "2938     0.473017     0.997395  \n",
       "3092     0.487467     1.240335  "
      ]
     },
     "execution_count": 99,
     "metadata": {},
     "output_type": "execute_result"
    }
   ],
   "source": [
    "goals_time"
   ]
  },
  {
   "cell_type": "code",
   "execution_count": 98,
   "metadata": {
    "scrolled": true
   },
   "outputs": [
    {
     "data": {
      "text/plain": [
       "Text(0.1, 0.05, 'source: Ekstrastats')"
      ]
     },
     "execution_count": 98,
     "metadata": {},
     "output_type": "execute_result"
    },
    {
     "data": {
      "image/png": "[encoded data removed]",
      "text/plain": [
       "<Figure size 1008x720 with 1 Axes>"
      ]
     },
     "metadata": {
      "needs_background": "light"
     },
     "output_type": "display_data"
    }
   ],
   "source": [
    "fig, ax = plt.subplots()\n",
    "fig.set_size_inches(14, 10)\n",
    "\n",
    "plt.title(f\"{game_result.index[0]} {game_result.goal[0]} : {game_result.goal[1]} {game_result.index[1]} \\n xg: {round(chances_time['acc_xg_home'].iloc[-1], 2)} : {round(chances_time['acc_xg_away'].iloc[-1], 2)}    \", fontdict={'fontsize' : 22})\n",
    "\n",
    "\n",
    "#LINES\n",
    "sns.lineplot(data=chances_time, x='minute', y='acc_xg_home', ax=ax, color='red')\n",
    "sns.lineplot(data=chances_time, x='minute', y='acc_xg_away', ax=ax, color='blue')\n",
    "\n",
    "#DOTS\n",
    "sns.scatterplot(data=goals_time.loc[goals_time['team_name'] == teams[0]],   x='minute', y='acc_xg_home', s=200, ax=ax, color='red')\n",
    "sns.scatterplot(data=goals_time.loc[goals_time['team_name'] == teams[1]], x='minute', y='acc_xg_away', s=200, ax=ax, color='blue')\n",
    "\n",
    "#TEXT\n",
    "\n",
    "bbox_props = dict(boxstyle=\"round\", fc='red')\n",
    "\n",
    "for i in range(len(goals_time)):\n",
    "    row = goals_time.iloc[i]\n",
    "#     playername = row['player_name'].split(' ')[-1]\n",
    "    playername = row['player_name']\n",
    "    \n",
    "    if row['team_name'] == teams[0]:      \n",
    "        ax.text(row['minute'], row['acc_xg_home'], playername, \n",
    "                ha='center', va='center', size=14, bbox=dict(boxstyle=\"round\", fc='lightcoral'))\n",
    "    \n",
    "    else:\n",
    "        ax.text(row['minute'], row['acc_xg_away'], playername, \n",
    "                ha='center', va='center', size=14, bbox=dict(boxstyle=\"round\", fc='lightblue'))\n",
    "\n",
    "    \n",
    "        \n",
    "\n",
    "\n",
    "#FILL AREA BETWEEN LINE AND X \n",
    "plt.fill_between(chances_time['minute'], chances_time['acc_xg_home'], alpha=0.1, color='blue')  \n",
    "plt.fill_between(chances_time['minute'], chances_time['acc_xg_away'], alpha=0.1, color='red')          \n",
    "        \n",
    "plt.grid()\n",
    "\n",
    "#IMAGE TEXT\n",
    "plt.gcf().text(0.75, 0.05, 'twitter.com/patryk_lowicki', fontsize=12)\n",
    "plt.gcf().text(0.1, 0.05,  'source: Statsbomb', fontsize=12)  "
   ]
  }
 ],
 "metadata": {
  "kernelspec": {
   "display_name": "Python 3",
   "language": "python",
   "name": "python3"
  },
  "language_info": {
   "codemirror_mode": {
    "name": "ipython",
    "version": 3
   },
   "file_extension": ".py",
   "mimetype": "text/x-python",
   "name": "python",
   "nbconvert_exporter": "python",
   "pygments_lexer": "ipython3",
   "version": "3.7.4"
  }
 },
 "nbformat": 4,
 "nbformat_minor": 2
}
